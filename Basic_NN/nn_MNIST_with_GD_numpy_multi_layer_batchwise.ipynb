{
 "cells": [
  {
   "cell_type": "code",
   "execution_count": 59,
   "id": "0b5f6e93",
   "metadata": {},
   "outputs": [
    {
     "name": "stdout",
     "output_type": "stream",
     "text": [
      "0.149988\n",
      "0.14879283522632714\n",
      "0.14760719400678016\n",
      "0.14643100045384516\n",
      "0.14526417928471075\n"
     ]
    }
   ],
   "source": [
    "import wandb\n",
    "import numpy as np\n",
    "\n",
    "config = {\n",
    "    \"lr\": 0.15,\n",
    "    \"lr_reduce\": 0.99992,\n",
    "    \"epochs\": 500,\n",
    "    \"normalization\": \"max_div\",\n",
    "    \"batch_size\": 2,\n",
    "    \"layers\": [{\n",
    "        \"nodes\": 60,\n",
    "        \"activation\": \"tanh\",\n",
    "        \"W_init_type\": \"random_small\",\n",
    "        \"b_init_type\": \"zeros\",\n",
    "    },{\n",
    "        \"nodes\": 10,\n",
    "        \"activation\": \"sigmoid\",\n",
    "        \"W_init_type\": \"random_small\",\n",
    "        \"b_init_type\": \"zeros\",\n",
    "    }]\n",
    "}\n",
    "\n",
    "lr = config['lr']\n",
    "for i in range(config['epochs']):\n",
    "    lr *= config['lr_reduce']\n",
    "    if i%100 == 0:\n",
    "        print(lr)"
   ]
  },
  {
   "cell_type": "code",
   "execution_count": 60,
   "id": "5f06d4e7",
   "metadata": {},
   "outputs": [],
   "source": [
    "from common import load_MNIST_data, sigmoid, relu, norm_max_pix_div, backward_relu, initialize_weights, Y_to_y, backward_sigmoid, backward_tanh, tanh"
   ]
  },
  {
   "cell_type": "code",
   "execution_count": 61,
   "id": "02b7339c",
   "metadata": {},
   "outputs": [
    {
     "data": {
      "text/plain": [
       "((784, 60000), (1, 60000), (784, 10000), (1, 10000))"
      ]
     },
     "execution_count": 61,
     "metadata": {},
     "output_type": "execute_result"
    }
   ],
   "source": [
    "X_train, y_train, X_test, y_test = load_MNIST_data()\n",
    "if config['normalization'] == 'max_div':\n",
    "    X_train = X_train/255\n",
    "    X_test = X_test/255\n",
    "X_train.shape, y_train.shape, X_test.shape, y_test.shape"
   ]
  },
  {
   "cell_type": "code",
   "execution_count": 62,
   "id": "8d73b656",
   "metadata": {},
   "outputs": [
    {
     "name": "stdout",
     "output_type": "stream",
     "text": [
      "(60, 784) random_small\n",
      "(60, 1) zeros\n",
      "(10, 60) random_small\n",
      "(10, 1) zeros\n"
     ]
    },
    {
     "data": {
      "text/plain": [
       "[[(60, 784), (60, 1)], [(10, 60), (10, 1)]]"
      ]
     },
     "execution_count": 62,
     "metadata": {},
     "output_type": "execute_result"
    }
   ],
   "source": [
    "weights_and_bais =  initialize_weights(X_train.shape[0], config['layers'], mul=0.0001)\n",
    "[[x['W'].shape, x['b'].shape] for x in weights_and_bais]"
   ]
  },
  {
   "cell_type": "code",
   "execution_count": 63,
   "id": "b4b6c8e1",
   "metadata": {},
   "outputs": [
    {
     "data": {
      "text/plain": [
       "(array([0., 0., 0., 0., 0., 1., 0., 0., 0., 0.]), array([5], dtype=uint8))"
      ]
     },
     "execution_count": 63,
     "metadata": {},
     "output_type": "execute_result"
    }
   ],
   "source": [
    "Y = Y_to_y(y_train)\n",
    "Y.T[0], y_train.T[0]"
   ]
  },
  {
   "cell_type": "code",
   "execution_count": 64,
   "id": "a1bc02c8",
   "metadata": {},
   "outputs": [],
   "source": [
    "def accuracy(a0, weights, y):\n",
    "    output = a0\n",
    "    layers = config['layers']\n",
    "    for layer_n in range(len(layers)):\n",
    "        activation = layers[layer_n]['activation']\n",
    "        W = weights_and_bais_local[layer_n]['W']\n",
    "        b = weights_and_bais_local[layer_n]['b']\n",
    "        Z = W.dot(output) + b\n",
    "        if activation == 'relu':\n",
    "            output = relu(Z)\n",
    "        elif activation == 'sigmoid':\n",
    "            output = sigmoid(Z)\n",
    "        elif activation == 'tanh':\n",
    "            output = tanh(Z)\n",
    "        else:\n",
    "            print('fuck')\n",
    "\n",
    "    return np.mean(np.argmax(output.T, axis=1).reshape(1, a0.shape[1])==y)*100"
   ]
  },
  {
   "cell_type": "code",
   "execution_count": 65,
   "id": "a5f842cd",
   "metadata": {},
   "outputs": [
    {
     "data": {
      "text/plain": [
       "((30000, 784, 2), (30000, 10, 2))"
      ]
     },
     "execution_count": 65,
     "metadata": {},
     "output_type": "execute_result"
    }
   ],
   "source": [
    "import math\n",
    "bs=config['batch_size']\n",
    "n_batches = X_train.shape[1] // bs\n",
    "X_train_batches = np.array_split(X_train.T[0:n_batches*bs], n_batches)\n",
    "X_train_batches = np.array([X_train_batch.T for X_train_batch in X_train_batches])\n",
    "y_train_batches = np.array_split(Y.T[0:n_batches*bs], n_batches)\n",
    "y_train_batches = np.array([y_train_batch.T for y_train_batch in y_train_batches])\n",
    "X_train_batches.shape, y_train_batches.shape"
   ]
  },
  {
   "cell_type": "code",
   "execution_count": null,
   "id": "411418a8",
   "metadata": {
    "code_folding": []
   },
   "outputs": [
    {
     "data": {
      "text/html": [
       "Finishing last run (ID:687vb06s) before initializing another..."
      ],
      "text/plain": [
       "<IPython.core.display.HTML object>"
      ]
     },
     "metadata": {},
     "output_type": "display_data"
    },
    {
     "data": {
      "text/html": [
       "Waiting for W&B process to finish... <strong style=\"color:green\">(success).</strong>"
      ],
      "text/plain": [
       "<IPython.core.display.HTML object>"
      ]
     },
     "metadata": {},
     "output_type": "display_data"
    },
    {
     "data": {
      "application/vnd.jupyter.widget-view+json": {
       "model_id": "",
       "version_major": 2,
       "version_minor": 0
      },
      "text/plain": [
       "VBox(children=(Label(value='0.000 MB of 0.000 MB uploaded (0.000 MB deduped)\\r'), FloatProgress(value=1.0, max…"
      ]
     },
     "metadata": {},
     "output_type": "display_data"
    },
    {
     "data": {
      "text/html": [
       "<style>\n",
       "    table.wandb td:nth-child(1) { padding: 0 10px; text-align: left ; width: auto;} td:nth-child(2) {text-align: left ; width: 100%}\n",
       "    .wandb-row { display: flex; flex-direction: row; flex-wrap: wrap; justify-content: flex-start; width: 100% }\n",
       "    .wandb-col { display: flex; flex-direction: column; flex-basis: 100%; flex: 1; padding: 10px; }\n",
       "    </style>\n",
       "<div class=\"wandb-row\"><div class=\"wandb-col\"><h3>Run history:</h3><br/><table class=\"wandb\"><tr><td>epoch</td><td>▁▁▁▂▂▂▂▂▂▃▃▃▃▃▄▄▄▄▄▄▅▅▅▅▅▅▆▆▆▆▆▇▇▇▇▇▇███</td></tr><tr><td>learning_rate</td><td>███▇▇▇▇▇▇▆▆▆▆▆▅▅▅▅▅▅▄▄▄▄▄▃▃▃▃▃▃▂▂▂▂▂▂▁▁▁</td></tr><tr><td>loss</td><td>█▄▄▃▃▂▂▂▂▂▂▂▂▂▁▁▁▁▁▁▁▁▁▁▁▁▁▁▁▁▁▁▁▁▁▁▁▁▁▁</td></tr><tr><td>test_accuracy</td><td>▁███████████████████████████████████████</td></tr><tr><td>train_accuracy</td><td>▁███████████████████████████████████████</td></tr></table><br/></div><div class=\"wandb-col\"><h3>Run summary:</h3><br/><table class=\"wandb\"><tr><td>epoch</td><td>499</td></tr><tr><td>learning_rate</td><td>0.14413</td></tr><tr><td>loss</td><td>0.01252</td></tr><tr><td>test_accuracy</td><td>96.46</td></tr><tr><td>train_accuracy</td><td>99.035</td></tr></table><br/></div></div>"
      ],
      "text/plain": [
       "<IPython.core.display.HTML object>"
      ]
     },
     "metadata": {},
     "output_type": "display_data"
    },
    {
     "data": {
      "text/html": [
       "Synced <strong style=\"color:#cdcd00\">woven-smoke-55</strong>: <a href=\"https://wandb.ai/kaizen/mnist/runs/687vb06s\" target=\"_blank\">https://wandb.ai/kaizen/mnist/runs/687vb06s</a><br/>Synced 6 W&B file(s), 0 media file(s), 0 artifact file(s) and 0 other file(s)"
      ],
      "text/plain": [
       "<IPython.core.display.HTML object>"
      ]
     },
     "metadata": {},
     "output_type": "display_data"
    },
    {
     "data": {
      "text/html": [
       "Find logs at: <code>./wandb/run-20220525_161455-687vb06s/logs</code>"
      ],
      "text/plain": [
       "<IPython.core.display.HTML object>"
      ]
     },
     "metadata": {},
     "output_type": "display_data"
    },
    {
     "data": {
      "text/html": [
       "Successfully finished last run (ID:687vb06s). Initializing new run:<br/>"
      ],
      "text/plain": [
       "<IPython.core.display.HTML object>"
      ]
     },
     "metadata": {},
     "output_type": "display_data"
    },
    {
     "data": {
      "text/html": [
       "Tracking run with wandb version 0.12.16"
      ],
      "text/plain": [
       "<IPython.core.display.HTML object>"
      ]
     },
     "metadata": {},
     "output_type": "display_data"
    },
    {
     "data": {
      "text/html": [
       "Run data is saved locally in <code>/Users/tnluser/PERSONAL/experiments/wandb/run-20220525_162306-mgeu1bl6</code>"
      ],
      "text/plain": [
       "<IPython.core.display.HTML object>"
      ]
     },
     "metadata": {},
     "output_type": "display_data"
    },
    {
     "data": {
      "text/html": [
       "Syncing run <strong><a href=\"https://wandb.ai/kaizen/mnist/runs/mgeu1bl6\" target=\"_blank\">copper-resonance-56</a></strong> to <a href=\"https://wandb.ai/kaizen/mnist\" target=\"_blank\">Weights & Biases</a> (<a href=\"https://wandb.me/run\" target=\"_blank\">docs</a>)<br/>"
      ],
      "text/plain": [
       "<IPython.core.display.HTML object>"
      ]
     },
     "metadata": {},
     "output_type": "display_data"
    },
    {
     "name": "stdout",
     "output_type": "stream",
     "text": [
      "0.1574693372746708\n",
      "0.04927198501382612\n",
      "0.03641803051473059\n",
      "0.029514955326080276\n",
      "0.024695874471798766\n",
      "0.021088985264942576\n",
      "0.01959526377098124\n",
      "0.0165391111735661\n",
      "0.014324372604367168\n",
      "0.014738092772414783\n",
      "0.01261515565762205\n",
      "0.012927127385706507\n",
      "0.013428411821795012\n",
      "0.013837371292257058\n",
      "0.011212702852733169\n",
      "0.010667810964431767\n"
     ]
    }
   ],
   "source": [
    "import numpy as np\n",
    "from copy import deepcopy\n",
    "weights_and_bais_local = deepcopy(weights_and_bais)\n",
    "wandb.init(project=\"mnist\", entity=\"kaizen\", config = config)\n",
    "# model\n",
    "train_accuracy = None\n",
    "test_accuracy = None\n",
    "\n",
    "lr = config['lr']\n",
    "for epoch in range(config['epochs']):\n",
    "    #forward\n",
    "    cost = 0\n",
    "    for batch_n in range(len(X_train_batches)):\n",
    "        batch = X_train_batches[batch_n]\n",
    "        output = batch\n",
    "        layers = config['layers']\n",
    "        caches = []\n",
    "        for layer_n in range(len(layers)):\n",
    "            activation = layers[layer_n]['activation']\n",
    "            W = weights_and_bais_local[layer_n]['W']\n",
    "            b = weights_and_bais_local[layer_n]['b']\n",
    "            Z = W.dot(output) + b\n",
    "            if activation == 'relu':\n",
    "                output = relu(Z)\n",
    "            elif activation == 'sigmoid':\n",
    "                output = sigmoid(Z)\n",
    "            elif activation == 'tanh':\n",
    "                output = tanh(Z)\n",
    "            else:\n",
    "                print('fuck')\n",
    "            cache = {}\n",
    "            cache['W'] = W\n",
    "            cache['b'] = b\n",
    "            cache['Z'] = Z\n",
    "            cache['A'] = output\n",
    "            caches.append(cache)\n",
    "        delta = output - y_train_batches[batch_n]\n",
    "        loss = np.sum(delta ** 2)/batch.shape[1]\n",
    "        cost += loss\n",
    "        last_dA = 2*delta\n",
    "        for layer_n in reversed(range(len(layers))):\n",
    "            cache = caches[layer_n]\n",
    "            layer = layers[layer_n]\n",
    "            activation = layer['activation']\n",
    "            activation_multiplicant = None\n",
    "            if activation == 'relu':\n",
    "                activation_multiplicant = backward_relu(cache['Z'])\n",
    "            elif activation == 'sigmoid':\n",
    "                activation_multiplicant = backward_sigmoid(cache['Z'])\n",
    "            elif activation == 'tanh':\n",
    "                activation_multiplicant = backward_tanh(cache['Z'])\n",
    "            else:\n",
    "                print('fuck')\n",
    "            dZ = last_dA * activation_multiplicant\n",
    "            previous_activation = caches[layer_n - 1]['A'] if layer_n > 0 else batch \n",
    "            m = previous_activation.shape[1] \n",
    "            dW = dZ.dot(previous_activation.T)/m\n",
    "            db = np.sum(dZ, axis=1, keepdims=True)/m\n",
    "            weights_and_bais_local[layer_n]['W'] = weights_and_bais_local[layer_n]['W'] - dW*lr\n",
    "            weights_and_bais_local[layer_n]['b'] = weights_and_bais_local[layer_n]['b'] - db*lr\n",
    "            last_dA = cache['W'].T.dot(dZ)\n",
    "    if epoch%10 == 0:\n",
    "        train_accuracy = accuracy(X_train, weights_and_bais_local, y_train)\n",
    "        test_accuracy = accuracy(X_test, weights_and_bais_local, y_test)\n",
    "        wandb.log({\n",
    "            \"train_accuracy\": train_accuracy,\n",
    "            \"test_accuracy\": test_accuracy,\n",
    "        })\n",
    "    cost /= X_train_batches.shape[0]\n",
    "    wandb.log({\n",
    "        'loss': cost,\n",
    "        'learning_rate': lr,\n",
    "        'epoch': epoch\n",
    "    })\n",
    "    if epoch%10 == 0:\n",
    "        print(cost)\n",
    "    lr *= config['lr_reduce']\n",
    "        \n",
    "        \n",
    "from datetime import timedelta\n",
    "from wandb import AlertLevel\n",
    "\n",
    "wandb.alert(\n",
    "    title='Experiment Completed',\n",
    "    text=f'Accuracy train:{train_accuracy} test:{test_accuracy}',\n",
    "    level=AlertLevel.WARN,\n",
    "    wait_duration=timedelta(minutes=0)\n",
    ")\n"
   ]
  },
  {
   "cell_type": "code",
   "execution_count": null,
   "id": "7506f2dc",
   "metadata": {},
   "outputs": [],
   "source": []
  },
  {
   "cell_type": "code",
   "execution_count": null,
   "id": "df561b43",
   "metadata": {},
   "outputs": [],
   "source": []
  }
 ],
 "metadata": {
  "kernelspec": {
   "display_name": "Python 3 (ipykernel)",
   "language": "python",
   "name": "python3"
  },
  "language_info": {
   "codemirror_mode": {
    "name": "ipython",
    "version": 3
   },
   "file_extension": ".py",
   "mimetype": "text/x-python",
   "name": "python",
   "nbconvert_exporter": "python",
   "pygments_lexer": "ipython3",
   "version": "3.9.7"
  }
 },
 "nbformat": 4,
 "nbformat_minor": 5
}
