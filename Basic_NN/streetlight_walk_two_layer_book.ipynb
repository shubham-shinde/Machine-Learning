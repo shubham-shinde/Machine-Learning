{
 "cells": [
  {
   "cell_type": "code",
   "execution_count": 62,
   "id": "97080ed2",
   "metadata": {},
   "outputs": [
    {
     "data": {
      "text/plain": [
       "array([[-0.16595599,  0.44064899, -0.99977125, -0.39533485],\n",
       "       [-0.70648822, -0.81532281, -0.62747958, -0.30887855],\n",
       "       [-0.20646505,  0.07763347, -0.16161097,  0.370439  ]])"
      ]
     },
     "execution_count": 62,
     "metadata": {},
     "output_type": "execute_result"
    }
   ],
   "source": [
    "import numpy as np\n",
    "\n",
    "np.random.seed(1)\n",
    "\n",
    "streetlights = np.array([\n",
    "    [1, 0, 1],\n",
    "    [0, 1, 1],\n",
    "    [0, 0, 1],\n",
    "    [1, 1, 1],\n",
    "])\n",
    "\n",
    "hidden_layer_size = 4\n",
    "\n",
    "initial_weights_0_1 = 2*np.random.random((3, hidden_layer_size)) - 1\n",
    "initial_weights_1_2 = 2*np.random.random((hidden_layer_size, 1)) - 1\n",
    "\n",
    "walk_vs_stop = np.array([[1, 1, 0, 0]]).T\n",
    "initial_weights_0_1"
   ]
  },
  {
   "cell_type": "code",
   "execution_count": 30,
   "id": "670668d0",
   "metadata": {},
   "outputs": [],
   "source": [
    "# this is non linarity, if it is negative make it zero\n",
    "def relu(x):\n",
    "    return (x > 0) * x\n",
    "\n",
    "# return 1 for output > 0 or zero\n",
    "def relu2drive(output):\n",
    "    return output > 0"
   ]
  },
  {
   "cell_type": "code",
   "execution_count": 81,
   "id": "8009ccc6",
   "metadata": {},
   "outputs": [
    {
     "name": "stdout",
     "output_type": "stream",
     "text": [
      "Error = 0.6342311598444467\n",
      "Error = 0.35838407676317513\n",
      "Error = 0.0830183113303298\n",
      "Error = 0.006467054957103705\n",
      "Error = 0.0003292669000750734\n",
      "Error = 1.5055622665134859e-05\n"
     ]
    }
   ],
   "source": [
    "from copy import copy, deepcopy\n",
    "alpha = 0.2\n",
    "wt_0_1 = deepcopy(initial_weights_0_1)\n",
    "wt_1_2 = deepcopy(initial_weights_1_2)\n",
    "sts = streetlights\n",
    "labels = walk_vs_stop\n",
    "for iteration in range(60):\n",
    "    error_for_all = 0\n",
    "    for i in range((len(streetlights))):\n",
    "        layer_0 = sts[i:i+1]\n",
    "        layer_1 = relu(np.dot(layer_0,wt_0_1))\n",
    "        prediction = np.dot(layer_1,wt_1_2)\n",
    "        label = labels[i:i+1]\n",
    "        error = np.sum((prediction - label)**2)\n",
    "        error_for_all += error\n",
    "        # print('error =', str(error))\n",
    "        delta_1_2 = (prediction - label)\n",
    "        delta_0_1 = delta_1_2.dot(wt_1_2.T) * (layer_1 > 0)\n",
    "        \n",
    "        wt_1_2 -= layer_1.T.dot(delta_1_2) * alpha\n",
    "        wt_0_1 -= layer_0.T.dot(delta_0_1) * alpha\n",
    "    if (iteration % 10 == 9):\n",
    "        print('Error =', error_for_all)"
   ]
  },
  {
   "cell_type": "code",
   "execution_count": null,
   "id": "9e86c6c7",
   "metadata": {},
   "outputs": [],
   "source": []
  }
 ],
 "metadata": {
  "kernelspec": {
   "display_name": "Python 3 (ipykernel)",
   "language": "python",
   "name": "python3"
  },
  "language_info": {
   "codemirror_mode": {
    "name": "ipython",
    "version": 3
   },
   "file_extension": ".py",
   "mimetype": "text/x-python",
   "name": "python",
   "nbconvert_exporter": "python",
   "pygments_lexer": "ipython3",
   "version": "3.9.7"
  }
 },
 "nbformat": 4,
 "nbformat_minor": 5
}
