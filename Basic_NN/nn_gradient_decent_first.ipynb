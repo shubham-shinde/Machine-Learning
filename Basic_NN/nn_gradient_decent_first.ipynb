{
 "cells": [
  {
   "cell_type": "code",
   "execution_count": 15,
   "id": "93310840",
   "metadata": {},
   "outputs": [
    {
     "name": "stdout",
     "output_type": "stream",
     "text": [
      "Error -> 0.30250000000000005 Pred -> 0.25\n",
      "Error -> 0.17015625000000004 Pred -> 0.3875\n",
      "Error -> 0.095712890625 Pred -> 0.49062500000000003\n",
      "Error -> 0.05383850097656251 Pred -> 0.56796875\n",
      "Error -> 0.03028415679931642 Pred -> 0.6259765625\n",
      "Error -> 0.0170348381996155 Pred -> 0.669482421875\n",
      "Error -> 0.00958209648728372 Pred -> 0.70211181640625\n",
      "Error -> 0.005389929274097089 Pred -> 0.7265838623046875\n",
      "Error -> 0.0030318352166796153 Pred -> 0.7449378967285156\n",
      "Error -> 0.0017054073093822882 Pred -> 0.7587034225463867\n",
      "Error -> 0.0009592916115275371 Pred -> 0.76902756690979\n",
      "Error -> 0.0005396015314842384 Pred -> 0.7767706751823426\n",
      "Error -> 0.000303525861459885 Pred -> 0.7825780063867569\n",
      "Error -> 0.00017073329707118678 Pred -> 0.7869335047900676\n",
      "Error -> 9.603747960254256e-05 Pred -> 0.7902001285925507\n",
      "Error -> 5.402108227642978e-05 Pred -> 0.7926500964444131\n",
      "Error -> 3.038685878049206e-05 Pred -> 0.7944875723333098\n",
      "Error -> 1.7092608064027242e-05 Pred -> 0.7958656792499823\n",
      "Error -> 9.614592036015323e-06 Pred -> 0.7968992594374867\n",
      "Error -> 5.408208020258491e-06 Pred -> 0.7976744445781151\n"
     ]
    }
   ],
   "source": [
    "input=0.5\n",
    "output=0.8\n",
    "weight=0.5\n",
    "for i in range(20):\n",
    "    pred = input*weight\n",
    "    error = (output - pred) ** 2\n",
    "    error_and_direction = (pred-output)*input\n",
    "    weight -= error_and_direction\n",
    "    print('Error ->', error, 'Pred ->', pred)"
   ]
  }
 ],
 "metadata": {
  "kernelspec": {
   "display_name": "Python 3 (ipykernel)",
   "language": "python",
   "name": "python3"
  },
  "language_info": {
   "codemirror_mode": {
    "name": "ipython",
    "version": 3
   },
   "file_extension": ".py",
   "mimetype": "text/x-python",
   "name": "python",
   "nbconvert_exporter": "python",
   "pygments_lexer": "ipython3",
   "version": "3.9.7"
  }
 },
 "nbformat": 4,
 "nbformat_minor": 5
}
