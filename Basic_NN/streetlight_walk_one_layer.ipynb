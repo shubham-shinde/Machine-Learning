{
 "cells": [
  {
   "cell_type": "code",
   "execution_count": 95,
   "id": "97080ed2",
   "metadata": {},
   "outputs": [
    {
     "data": {
      "text/plain": [
       "array([0.48534671, 0.25534328, 0.48213486])"
      ]
     },
     "execution_count": 95,
     "metadata": {},
     "output_type": "execute_result"
    }
   ],
   "source": [
    "import numpy as np\n",
    "\n",
    "streetlights = np.array([\n",
    "    [1, 0, 1],\n",
    "    [0, 1, 1],\n",
    "    [0, 0, 1],\n",
    "    [1, 1, 1],\n",
    "    [0, 1, 1],\n",
    "    [1, 0, 1],\n",
    "])\n",
    "\n",
    "initial_weights = np.array(np.random.random(3) * 2 - 1)\n",
    "\n",
    "walk_vs_stop = np.array([0, 1, 0, 1, 1, 0])\n",
    "weights"
   ]
  },
  {
   "cell_type": "code",
   "execution_count": 96,
   "id": "670668d0",
   "metadata": {},
   "outputs": [
    {
     "data": {
      "text/plain": [
       "0.9674815706505231"
      ]
     },
     "execution_count": 96,
     "metadata": {},
     "output_type": "execute_result"
    }
   ],
   "source": [
    "def predict(wt, inputs):\n",
    "    return wt.dot(inputs)\n",
    "predict(weights, streetlights[0])"
   ]
  },
  {
   "cell_type": "code",
   "execution_count": 110,
   "id": "8009ccc6",
   "metadata": {},
   "outputs": [
    {
     "name": "stdout",
     "output_type": "stream",
     "text": [
      "Error = 0.6811977037696659\n",
      "Error = 0.34524049816973423\n",
      "Error = 0.25113184187736615\n",
      "Error = 0.1998250963988073\n",
      "Error = 0.16334294966189153\n",
      "Error = 0.1354957090878587\n",
      "Error = 0.11361822314203963\n",
      "Error = 0.09608139792744615\n",
      "Error = 0.08178775949650192\n",
      "Error = 0.06997424673424645\n",
      "Error = 0.06009883817960575\n",
      "Error = 0.051768186847167996\n",
      "Error = 0.04469035731309897\n",
      "Error = 0.03864369213985631\n",
      "Error = 0.03345614052750504\n",
      "Error = 0.02899139780196214\n",
      "Error = 0.02513949618791961\n",
      "Error = 0.02181032048415005\n",
      "Error = 0.018929059563268107\n",
      "Error = 0.016432951058725224\n",
      "Error = 0.014268900093086942\n",
      "Error = 0.012391697252140914\n",
      "Error = 0.010762654421717066\n",
      "Error = 0.009348537715928033\n",
      "Error = 0.00812071619748036\n",
      "Error = 0.007054470919831852\n",
      "Error = 0.006128425829194956\n",
      "Error = 0.005324073355001615\n",
      "Error = 0.00462537508951212\n",
      "Error = 0.0040184231001439445\n",
      "Error = 0.003491150964898353\n",
      "Error = 0.003033086111471881\n",
      "Error = 0.002635136824717587\n",
      "Error = 0.0022894085936531854\n",
      "Error = 0.00198904544809177\n",
      "Error = 0.0017280926851646497\n",
      "Error = 0.0015013779734452859\n",
      "Error = 0.0013044082914709198\n",
      "Error = 0.0011332805385187515\n",
      "Error = 0.000984603969564296\n",
      "Error = 0.0008554328683129408\n",
      "Error = 0.0007432080927953563\n",
      "Error = 0.000645706315187611\n",
      "Error = 0.0005609959372528806\n",
      "Error = 0.0004873987997344302\n",
      "Error = 0.0004234569218134601\n",
      "Error = 0.00036790360831723886\n",
      "Error = 0.00031963835012214175\n",
      "Error = 0.00027770501912987243\n",
      "Error = 0.00024127292496664142\n"
     ]
    },
    {
     "data": {
      "text/plain": [
       "array([-0.00929543,  0.99066597,  0.01075248])"
      ]
     },
     "execution_count": 110,
     "metadata": {},
     "output_type": "execute_result"
    }
   ],
   "source": [
    "from copy import copy, deepcopy\n",
    "alpha = 0.1\n",
    "weights = deepcopy(initial_weights)\n",
    "st = streetlights\n",
    "label = walk_vs_stop\n",
    "for iteration in range(50):\n",
    "    error_for_all = 0\n",
    "    for input_i in range((len(streetlights))):\n",
    "        prediction = predict(weights, st[input_i])\n",
    "        actual = label[input_i]\n",
    "        error = (prediction - actual)**2\n",
    "        error_for_all += error\n",
    "        # print('error =', str(error))\n",
    "        delta = prediction - actual\n",
    "        weight_delta = st[input_i] * delta * alpha\n",
    "        weights -= weight_delta\n",
    "    print('Error =', error_for_all)\n",
    "        \n",
    "weights\n",
    "        "
   ]
  }
 ],
 "metadata": {
  "kernelspec": {
   "display_name": "Python 3 (ipykernel)",
   "language": "python",
   "name": "python3"
  },
  "language_info": {
   "codemirror_mode": {
    "name": "ipython",
    "version": 3
   },
   "file_extension": ".py",
   "mimetype": "text/x-python",
   "name": "python",
   "nbconvert_exporter": "python",
   "pygments_lexer": "ipython3",
   "version": "3.9.7"
  }
 },
 "nbformat": 4,
 "nbformat_minor": 5
}
