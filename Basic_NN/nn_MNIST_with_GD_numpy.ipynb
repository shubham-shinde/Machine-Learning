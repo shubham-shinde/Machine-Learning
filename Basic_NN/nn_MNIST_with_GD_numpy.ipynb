{
 "cells": [
  {
   "cell_type": "code",
   "execution_count": 20,
   "id": "e0fa1a58",
   "metadata": {},
   "outputs": [],
   "source": [
    "from keras.datasets import mnist\n",
    "data = mnist.load_data()"
   ]
  },
  {
   "cell_type": "code",
   "execution_count": 22,
   "id": "34b545d4",
   "metadata": {},
   "outputs": [
    {
     "data": {
      "text/plain": [
       "(60000, 28, 28)"
      ]
     },
     "execution_count": 22,
     "metadata": {},
     "output_type": "execute_result"
    }
   ],
   "source": [
    "(X_train, y_train), (X_test, y_test) = data\n",
    "X_train[0].shape\n",
    "X_train.shape"
   ]
  },
  {
   "cell_type": "code",
   "execution_count": 23,
   "id": "e4e842e9",
   "metadata": {},
   "outputs": [
    {
     "name": "stdout",
     "output_type": "stream",
     "text": [
      "0.6410310119195188\n"
     ]
    }
   ],
   "source": [
    "import numpy as np\n",
    "outputs = [0, 1, 2, 3, 4, 5, 6, 7, 8, 9]\n",
    "weights = [np.random.random((28, 28)) for i in outputs]\n",
    "print(weights[0][0][0])"
   ]
  },
  {
   "cell_type": "code",
   "execution_count": 31,
   "id": "393db189",
   "metadata": {},
   "outputs": [
    {
     "data": {
      "text/plain": [
       "0.9411764705882353"
      ]
     },
     "execution_count": 31,
     "metadata": {},
     "output_type": "execute_result"
    }
   ],
   "source": [
    "X_train_np = np.array(X_train)/255\n",
    "X_test_np = np.array(X_test)/255\n",
    "X_train_np[0][14][14]"
   ]
  },
  {
   "cell_type": "code",
   "execution_count": 124,
   "id": "34883631",
   "metadata": {},
   "outputs": [
    {
     "data": {
      "text/plain": [
       "60000"
      ]
     },
     "execution_count": 124,
     "metadata": {},
     "output_type": "execute_result"
    }
   ],
   "source": [
    "max_pred = 28*28\n",
    "def predict_one(weight, input):\n",
    "    output = weight * input\n",
    "    return np.sum(output/max_pred)\n",
    "predict_one(weights[0], X_train_np[0])"
   ]
  },
  {
   "cell_type": "code",
   "execution_count": 142,
   "id": "a0bab236",
   "metadata": {},
   "outputs": [
    {
     "name": "stderr",
     "output_type": "stream",
     "text": [
      "100%|███████████████| 100/100 [19:57<00:00, 11.98s/it]\n"
     ]
    }
   ],
   "source": [
    "from copy import copy, deepcopy\n",
    "from tqdm import tqdm\n",
    "training_weights = deepcopy(weights)\n",
    "alpha = 0.1\n",
    "for times in tqdm(range(100)):\n",
    "    for input_count in range(len(X_train)):\n",
    "        for number_i in range(len(outputs)):\n",
    "            input = X_train_np[input_count]\n",
    "            output = y_train[input_count]\n",
    "            number_weight = training_weights[number_i]\n",
    "            prediction = predict_one(number_weight, input)\n",
    "            expected = 1 if output == outputs[number_i] else 0\n",
    "            error = (expected - prediction)**2\n",
    "            delta = expected - prediction\n",
    "            weight_delta = input * delta * alpha\n",
    "            training_weights[number_i] = number_weight + weight_delta\n",
    "#            for i in range(len(number_weight)):\n",
    "#                for j in range (len(number_weight[i])):\n",
    "#                    new_weight = delta * (input[i][j]) * alpha\n",
    "#                    # print(input[i][j])\n",
    "#                    # print(number_weight[i][j], new_weight)\n",
    "#                    number_weight[i][j] += new_weight\n",
    "            # print('error =>', error, 'prediction =>', prediction,'expected =>', expected)\n",
    "        # print('-'*20)"
   ]
  },
  {
   "cell_type": "code",
   "execution_count": 126,
   "id": "e959ba86",
   "metadata": {},
   "outputs": [
    {
     "data": {
      "text/plain": [
       "-0.05123147691529801"
      ]
     },
     "execution_count": 126,
     "metadata": {},
     "output_type": "execute_result"
    }
   ],
   "source": [
    "y_train[1]\n",
    "predict_one(training_weights[5], X_train_np[1])"
   ]
  },
  {
   "cell_type": "code",
   "execution_count": 127,
   "id": "a5877969",
   "metadata": {},
   "outputs": [],
   "source": [
    "def predict_digit(image, weights):\n",
    "    probabilities = []\n",
    "    for i in range(10):\n",
    "        probabilities.append(predict_one(weights[i], image))\n",
    "    return probabilities.index(max(probabilities))"
   ]
  },
  {
   "cell_type": "code",
   "execution_count": 128,
   "id": "1ecdcf36",
   "metadata": {},
   "outputs": [
    {
     "data": {
      "text/plain": [
       "0"
      ]
     },
     "execution_count": 128,
     "metadata": {},
     "output_type": "execute_result"
    }
   ],
   "source": [
    "predict_digit(X_train_np[1], training_weights)"
   ]
  },
  {
   "cell_type": "code",
   "execution_count": 141,
   "id": "9f9d9684",
   "metadata": {},
   "outputs": [
    {
     "name": "stderr",
     "output_type": "stream",
     "text": [
      "\r",
      "  0%|                       | 0/60000 [00:00<?, ?it/s]"
     ]
    },
    {
     "name": "stdout",
     "output_type": "stream",
     "text": [
      "3\n"
     ]
    },
    {
     "data": {
      "image/png": "[encoded data removed]",
      "text/plain": [
       "<Figure size 432x288 with 1 Axes>"
      ]
     },
     "metadata": {
      "needs_background": "light"
     },
     "output_type": "display_data"
    },
    {
     "name": "stderr",
     "output_type": "stream",
     "text": [
      "\r",
      "  0%|             | 24/60000 [00:00<04:10, 239.83it/s]"
     ]
    },
    {
     "name": "stdout",
     "output_type": "stream",
     "text": [
      "9\n"
     ]
    },
    {
     "data": {
      "image/png": "[encoded data removed]",
      "text/plain": [
       "<Figure size 432x288 with 1 Axes>"
      ]
     },
     "metadata": {
      "needs_background": "light"
     },
     "output_type": "display_data"
    },
    {
     "name": "stdout",
     "output_type": "stream",
     "text": [
      "1\n"
     ]
    },
    {
     "data": {
      "image/png": "[encoded data removed]",
      "text/plain": [
       "<Figure size 432x288 with 1 Axes>"
      ]
     },
     "metadata": {
      "needs_background": "light"
     },
     "output_type": "display_data"
    },
    {
     "name": "stderr",
     "output_type": "stream",
     "text": [
      "\r",
      "  0%|            | 133/60000 [00:00<01:55, 518.99it/s]"
     ]
    },
    {
     "name": "stdout",
     "output_type": "stream",
     "text": [
      "0\n"
     ]
    },
    {
     "data": {
      "image/png": "[encoded data removed]",
      "text/plain": [
       "<Figure size 432x288 with 1 Axes>"
      ]
     },
     "metadata": {
      "needs_background": "light"
     },
     "output_type": "display_data"
    },
    {
     "name": "stdout",
     "output_type": "stream",
     "text": [
      "8\n"
     ]
    },
    {
     "data": {
      "image/png": "[encoded data removed]",
      "text/plain": [
       "<Figure size 432x288 with 1 Axes>"
      ]
     },
     "metadata": {
      "needs_background": "light"
     },
     "output_type": "display_data"
    },
    {
     "name": "stderr",
     "output_type": "stream",
     "text": [
      "100%|████████| 60000/60000 [00:05<00:00, 10023.81it/s]"
     ]
    },
    {
     "name": "stdout",
     "output_type": "stream",
     "text": [
      "50013 9987\n",
      "accuracy 83.355\n"
     ]
    },
    {
     "name": "stderr",
     "output_type": "stream",
     "text": [
      "\n"
     ]
    }
   ],
   "source": [
    "import matplotlib.pyplot as plt\n",
    "correct = 0\n",
    "incorrect = 0\n",
    "wrongs = np.array(9)\n",
    "exp_pre = []\n",
    "wrongs = [0, 0, 0, 0, 0, 0, 0, 0, 0, 0, 0]\n",
    "limit = 5\n",
    "for i in tqdm(range(len(y_train))):\n",
    "    prediction = predict_digit(X_train_np[i], training_weights)\n",
    "    if prediction == y_train[i]:\n",
    "        correct += 1\n",
    "    else:\n",
    "        incorrect += 1\n",
    "        exp_pre.append([y_train[i], prediction])\n",
    "        wrongs[y_train[i]] += 1\n",
    "        if y_train[i] == 5 and limit > 0:\n",
    "            limit -= 1\n",
    "            plt.imshow(X_train[i])\n",
    "            print(prediction)\n",
    "            plt.show()\n",
    "            \n",
    "print(correct, incorrect)\n",
    "print('accuracy', 100 * correct/ (correct + incorrect))\n",
    "#100 time for 100 data accuracy - 67.09, time - 1:04\n",
    "#100 time for 1000 data accuracy - 80.7, time - 10:12\n",
    "#100 time for 5000 data accuracy - 83.6, time - 47:24\n",
    "#100 time for 5000 data accuracy - 83.6, time - 01:22\n",
    "#100 time for 10000 data accuracy - 83.355, time - 02:41\n",
    "#100 time for #all data accuracy - 83.355, time - 19.57"
   ]
  },
  {
   "cell_type": "code",
   "execution_count": 136,
   "id": "2482618d",
   "metadata": {},
   "outputs": [
    {
     "name": "stdout",
     "output_type": "stream",
     "text": [
      "[273, 270, 1258, 1012, 869, 2252, 449, 919, 1453, 1232, 0]\n"
     ]
    }
   ],
   "source": [
    "print(wrongs)"
   ]
  },
  {
   "cell_type": "code",
   "execution_count": 130,
   "id": "bfea42ba",
   "metadata": {
    "scrolled": true
   },
   "outputs": [
    {
     "data": {
      "image/png": "[encoded data removed]",
      "text/plain": [
       "<Figure size 432x288 with 1 Axes>"
      ]
     },
     "metadata": {
      "needs_background": "light"
     },
     "output_type": "display_data"
    },
    {
     "data": {
      "image/png": "[encoded data removed]",
      "text/plain": [
       "<Figure size 432x288 with 1 Axes>"
      ]
     },
     "metadata": {
      "needs_background": "light"
     },
     "output_type": "display_data"
    },
    {
     "data": {
      "image/png": "[encoded data removed]",
      "text/plain": [
       "<Figure size 432x288 with 1 Axes>"
      ]
     },
     "metadata": {
      "needs_background": "light"
     },
     "output_type": "display_data"
    },
    {
     "data": {
      "image/png": "[encoded data removed]",
      "text/plain": [
       "<Figure size 432x288 with 1 Axes>"
      ]
     },
     "metadata": {
      "needs_background": "light"
     },
     "output_type": "display_data"
    },
    {
     "data": {
      "image/png": "[encoded data removed]",
      "text/plain": [
       "<Figure size 432x288 with 1 Axes>"
      ]
     },
     "metadata": {
      "needs_background": "light"
     },
     "output_type": "display_data"
    },
    {
     "data": {
      "image/png": "[encoded data removed]",
      "text/plain": [
       "<Figure size 432x288 with 1 Axes>"
      ]
     },
     "metadata": {
      "needs_background": "light"
     },
     "output_type": "display_data"
    },
    {
     "data": {
      "image/png": "[encoded data removed]",
      "text/plain": [
       "<Figure size 432x288 with 1 Axes>"
      ]
     },
     "metadata": {
      "needs_background": "light"
     },
     "output_type": "display_data"
    },
    {
     "data": {
      "image/png": "[encoded data removed]",
      "text/plain": [
       "<Figure size 432x288 with 1 Axes>"
      ]
     },
     "metadata": {
      "needs_background": "light"
     },
     "output_type": "display_data"
    },
    {
     "data": {
      "image/png": "[encoded data removed]",
      "text/plain": [
       "<Figure size 432x288 with 1 Axes>"
      ]
     },
     "metadata": {
      "needs_background": "light"
     },
     "output_type": "display_data"
    },
    {
     "data": {
      "image/png": "[encoded data removed]",
      "text/plain": [
       "<Figure size 432x288 with 1 Axes>"
      ]
     },
     "metadata": {
      "needs_background": "light"
     },
     "output_type": "display_data"
    }
   ],
   "source": [
    "import matplotlib.pyplot as plt\n",
    "for i in range(10):\n",
    "    plt.imshow(training_weights[i])\n",
    "    plt.show()"
   ]
  },
  {
   "cell_type": "code",
   "execution_count": 293,
   "id": "35ef99b8",
   "metadata": {
    "scrolled": true
   },
   "outputs": [
    {
     "data": {
      "text/plain": [
       "<matplotlib.image.AxesImage at 0x7f92ecdd2fd0>"
      ]
     },
     "execution_count": 293,
     "metadata": {},
     "output_type": "execute_result"
    },
    {
     "data": {
      "image/png": "[encoded data removed]",
      "text/plain": [
       "<Figure size 432x288 with 1 Axes>"
      ]
     },
     "metadata": {
      "needs_background": "light"
     },
     "output_type": "display_data"
    }
   ],
   "source": [
    "plt.imshow(X_train[1])"
   ]
  },
  {
   "cell_type": "code",
   "execution_count": 294,
   "id": "d7577d62",
   "metadata": {},
   "outputs": [
    {
     "name": "stdout",
     "output_type": "stream",
     "text": [
      "/Users/tnluser/BYJUS/temp/experiments\r\n"
     ]
    }
   ],
   "source": [
    "!pwd"
   ]
  }
 ],
 "metadata": {
  "kernelspec": {
   "display_name": "Python 3 (ipykernel)",
   "language": "python",
   "name": "python3"
  },
  "language_info": {
   "codemirror_mode": {
    "name": "ipython",
    "version": 3
   },
   "file_extension": ".py",
   "mimetype": "text/x-python",
   "name": "python",
   "nbconvert_exporter": "python",
   "pygments_lexer": "ipython3",
   "version": "3.9.7"
  }
 },
 "nbformat": 4,
 "nbformat_minor": 5
}
