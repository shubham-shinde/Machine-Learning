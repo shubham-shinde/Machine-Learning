{
 "cells": [
  {
   "cell_type": "code",
   "execution_count": 23,
   "id": "1d3878d8",
   "metadata": {},
   "outputs": [],
   "source": [
    "def print_mat(mat, lines):\n",
    "    for i in range(0, len(mat)):\n",
    "        print(mat[i], lines[i])"
   ]
  },
  {
   "cell_type": "code",
   "execution_count": 27,
   "id": "073b371f",
   "metadata": {},
   "outputs": [
    {
     "name": "stdout",
     "output_type": "stream",
     "text": [
      "weights\n",
      "toes         ,win         ,fans\n",
      "[0.12766139 0.42200263 0.95983489] hid1\n",
      "[0.54994399 0.43667749 0.41370014] hid2\n",
      "[0.20053212 0.67102396 0.4567119 ] hid3\n",
      "\n",
      "toes         ,win         ,fans\n",
      "[0.85891362 0.71087062 0.42075114] hid1\n",
      "[0.18610717 0.01422632 0.07157054] hid2\n",
      "[0.07597912 0.57312814 0.74463691] hid3\n"
     ]
    }
   ],
   "source": [
    "import numpy as np\n",
    "inputs = ['toes', 'win', 'fans']\n",
    "hidden = ['hid1', 'hid2', 'hid3']\n",
    "outputs = ['hurt', 'win', 'sad']\n",
    "\n",
    "print('weights')\n",
    "ih = np.random.rand(3, 3)\n",
    "print('         ,'.join(inputs))\n",
    "print_mat(ih, hidden)\n",
    "print()\n",
    "ho = np.random.rand(3, 3)\n",
    "print('         ,'.join(inputs))\n",
    "print_mat(ho, hidden)"
   ]
  },
  {
   "cell_type": "code",
   "execution_count": 32,
   "id": "d94e1db2",
   "metadata": {},
   "outputs": [],
   "source": [
    "def next_layer_values(weights, inp):\n",
    "    output = []\n",
    "    for i in range(0, len(weights)):\n",
    "        result = 0\n",
    "        for j in range(0, len(inp)):\n",
    "            result+=weights[i][j]*inp[j]\n",
    "        output.append(result)\n",
    "    return output"
   ]
  },
  {
   "cell_type": "code",
   "execution_count": 36,
   "id": "130e8a22",
   "metadata": {},
   "outputs": [
    {
     "name": "stdout",
     "output_type": "stream",
     "text": [
      "[33 92 89]\n"
     ]
    }
   ],
   "source": [
    "input_data = np.random.randint(100,size=3)\n",
    "print(input_data)"
   ]
  },
  {
   "cell_type": "code",
   "execution_count": 38,
   "id": "0248baee",
   "metadata": {},
   "outputs": [
    {
     "name": "stdout",
     "output_type": "stream",
     "text": [
      "[128.4623730390004, 95.1417927568425, 108.99912273375864]\n"
     ]
    }
   ],
   "source": [
    "hidden_input = next_layer_values(ih, input_data)\n",
    "print(hidden_input)"
   ]
  },
  {
   "cell_type": "code",
   "execution_count": 39,
   "id": "0621b59e",
   "metadata": {},
   "outputs": [
    {
     "name": "stdout",
     "output_type": "stream",
     "text": [
      "[223.83309143914138, 33.06241245039443, 145.45366743976683]\n"
     ]
    }
   ],
   "source": [
    "output = next_layer_values(ho, hidden_input)\n",
    "print(output)"
   ]
  },
  {
   "cell_type": "code",
   "execution_count": null,
   "id": "e648c539",
   "metadata": {},
   "outputs": [],
   "source": []
  },
  {
   "cell_type": "code",
   "execution_count": null,
   "id": "29014520",
   "metadata": {},
   "outputs": [],
   "source": []
  },
  {
   "cell_type": "code",
   "execution_count": null,
   "id": "d0722122",
   "metadata": {},
   "outputs": [],
   "source": []
  }
 ],
 "metadata": {
  "kernelspec": {
   "display_name": "Python 3 (ipykernel)",
   "language": "python",
   "name": "python3"
  },
  "language_info": {
   "codemirror_mode": {
    "name": "ipython",
    "version": 3
   },
   "file_extension": ".py",
   "mimetype": "text/x-python",
   "name": "python",
   "nbconvert_exporter": "python",
   "pygments_lexer": "ipython3",
   "version": "3.9.7"
  }
 },
 "nbformat": 4,
 "nbformat_minor": 5
}
