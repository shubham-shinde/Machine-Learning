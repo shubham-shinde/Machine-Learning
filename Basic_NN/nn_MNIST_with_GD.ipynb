{
 "cells": [
  {
   "cell_type": "code",
   "execution_count": 4,
   "id": "e0fa1a58",
   "metadata": {},
   "outputs": [],
   "source": [
    "from keras.datasets import mnist\n",
    "data = mnist.load_data()"
   ]
  },
  {
   "cell_type": "code",
   "execution_count": 5,
   "id": "34b545d4",
   "metadata": {},
   "outputs": [
    {
     "data": {
      "text/plain": [
       "(60000, 28, 28)"
      ]
     },
     "execution_count": 5,
     "metadata": {},
     "output_type": "execute_result"
    }
   ],
   "source": [
    "(X_train, y_train), (X_test, y_test) = data\n",
    "X_train[0].shape\n",
    "X_train.shape"
   ]
  },
  {
   "cell_type": "code",
   "execution_count": 6,
   "id": "e4e842e9",
   "metadata": {},
   "outputs": [
    {
     "name": "stdout",
     "output_type": "stream",
     "text": [
      "0.7186228749808578\n"
     ]
    }
   ],
   "source": [
    "import numpy as np\n",
    "outputs = [0, 1, 2, 3, 4, 5, 6, 7, 8, 9]\n",
    "weights = [np.random.random((28, 28)) for i in outputs]\n",
    "print(weights[0][0][0])"
   ]
  },
  {
   "cell_type": "code",
   "execution_count": 7,
   "id": "34883631",
   "metadata": {},
   "outputs": [],
   "source": [
    "input_division=500\n",
    "def predict_one(weight, input):\n",
    "    output = 0\n",
    "    for i in range(len(input)):\n",
    "        for j in range(len(input[i])):\n",
    "            output += (input[i][j]/input_division) * weight[i][j]\n",
    "            # print(output, input[i][j]/input_division, weight[i][j])\n",
    "            \n",
    "    return output/100"
   ]
  },
  {
   "cell_type": "code",
   "execution_count": 8,
   "id": "b73bebde",
   "metadata": {},
   "outputs": [
    {
     "data": {
      "text/plain": [
       "0.2635349019599136"
      ]
     },
     "execution_count": 8,
     "metadata": {},
     "output_type": "execute_result"
    }
   ],
   "source": [
    "predict_one(weights[0], X_train[0])"
   ]
  },
  {
   "cell_type": "code",
   "execution_count": 48,
   "id": "a0bab236",
   "metadata": {},
   "outputs": [
    {
     "name": "stderr",
     "output_type": "stream",
     "text": [
      "100%|█████████████████| 20/20 [12:59<00:00, 39.00s/it]\n"
     ]
    }
   ],
   "source": [
    "from copy import copy, deepcopy\n",
    "from tqdm import tqdm\n",
    "training_weights = deepcopy(weights)\n",
    "alpha = 0.05\n",
    "for times in tqdm(range(20)):\n",
    "    for input_count in range(1000):\n",
    "        for number_i in range(len(outputs)):\n",
    "            input = X_train[input_count]\n",
    "            output = y_train[input_count]\n",
    "            number_weight = training_weights[number_i]\n",
    "            prediction = predict_one(number_weight, input)\n",
    "            expected = 1 if output == outputs[number_i] else 0\n",
    "            error = (expected - prediction)**2\n",
    "            delta = expected - prediction\n",
    "            for i in range(len(number_weight)):\n",
    "                for j in range (len(number_weight[i])):\n",
    "                    new_weight = delta * (input[i][j]/input_division) * alpha\n",
    "                    # print(input[i][j]/input_division)\n",
    "                    # print(number_weight[i][j], new_weight)\n",
    "                    number_weight[i][j] += new_weight\n",
    "            # print('error =>', error, 'prediction =>', prediction,'expected =>', expected)\n",
    "        # print('-'*20)"
   ]
  },
  {
   "cell_type": "code",
   "execution_count": 49,
   "id": "e959ba86",
   "metadata": {},
   "outputs": [
    {
     "data": {
      "text/plain": [
       "0.041451025529533274"
      ]
     },
     "execution_count": 49,
     "metadata": {},
     "output_type": "execute_result"
    }
   ],
   "source": [
    "y_train[1]\n",
    "predict_one(training_weights[1], X_train[1])"
   ]
  },
  {
   "cell_type": "code",
   "execution_count": 50,
   "id": "ee7bc5c3",
   "metadata": {},
   "outputs": [],
   "source": [
    "def predict_digit(image, weights):\n",
    "    probabilities = []\n",
    "    for i in range(10):\n",
    "        probabilities.append(predict_one(weights[i], image))\n",
    "    return probabilities.index(max(probabilities))"
   ]
  },
  {
   "cell_type": "code",
   "execution_count": 52,
   "id": "49aa0767",
   "metadata": {},
   "outputs": [
    {
     "data": {
      "text/plain": [
       "0"
      ]
     },
     "execution_count": 52,
     "metadata": {},
     "output_type": "execute_result"
    }
   ],
   "source": [
    "predict_digit(X_train[1], training_weights)"
   ]
  },
  {
   "cell_type": "code",
   "execution_count": 55,
   "id": "e9e65b7b",
   "metadata": {},
   "outputs": [
    {
     "name": "stderr",
     "output_type": "stream",
     "text": [
      "100%|█████████████| 2000/2000 [00:45<00:00, 43.55it/s]"
     ]
    },
    {
     "name": "stdout",
     "output_type": "stream",
     "text": [
      "1672 328\n",
      "accuracy 83.6\n"
     ]
    },
    {
     "name": "stderr",
     "output_type": "stream",
     "text": [
      "\n"
     ]
    }
   ],
   "source": [
    "correct = 0\n",
    "incorrect = 0\n",
    "for i in tqdm(range(2000)):\n",
    "    prediction = predict_digit(X_train[i], training_weights)\n",
    "    if prediction == y_train[i]:\n",
    "        correct += 1\n",
    "    else:\n",
    "        incorrect += 1\n",
    "print(correct, incorrect)\n",
    "print('accuracy', 100 * correct/ (correct + incorrect))\n",
    "#1000 time for 100 data accuracy - 66.75, time - 1h 12 min\n",
    "#50 time for data accuracy - 66.75, time - 3 min\n",
    "#10 time for 1000 data accuracy - 81.4, time - 6 min 13 sec\n",
    "#20 time for 1000 data accuracy - 83.6, time - 12:59"
   ]
  },
  {
   "cell_type": "code",
   "execution_count": 23,
   "id": "bfea42ba",
   "metadata": {
    "scrolled": true
   },
   "outputs": [
    {
     "data": {
      "text/plain": [
       "<matplotlib.image.AxesImage at 0x7fab91d97070>"
      ]
     },
     "execution_count": 23,
     "metadata": {},
     "output_type": "execute_result"
    },
    {
     "data": {
      "image/png": "[encoded data removed]",
      "text/plain": [
       "<Figure size 432x288 with 1 Axes>"
      ]
     },
     "metadata": {
      "needs_background": "light"
     },
     "output_type": "display_data"
    }
   ],
   "source": [
    "import matplotlib.pyplot as plt\n",
    "plt.imshow(training_weights[9])"
   ]
  },
  {
   "cell_type": "code",
   "execution_count": 293,
   "id": "35ef99b8",
   "metadata": {},
   "outputs": [
    {
     "data": {
      "text/plain": [
       "<matplotlib.image.AxesImage at 0x7f92ecdd2fd0>"
      ]
     },
     "execution_count": 293,
     "metadata": {},
     "output_type": "execute_result"
    },
    {
     "data": {
      "image/png": "[encoded data removed]",
      "text/plain": [
       "<Figure size 432x288 with 1 Axes>"
      ]
     },
     "metadata": {
      "needs_background": "light"
     },
     "output_type": "display_data"
    }
   ],
   "source": [
    "plt.imshow(X_train[1])"
   ]
  },
  {
   "cell_type": "code",
   "execution_count": 294,
   "id": "d7577d62",
   "metadata": {},
   "outputs": [
    {
     "name": "stdout",
     "output_type": "stream",
     "text": [
      "/Users/tnluser/BYJUS/temp/experiments\r\n"
     ]
    }
   ],
   "source": [
    "!pwd"
   ]
  }
 ],
 "metadata": {
  "kernelspec": {
   "display_name": "Python 3 (ipykernel)",
   "language": "python",
   "name": "python3"
  },
  "language_info": {
   "codemirror_mode": {
    "name": "ipython",
    "version": 3
   },
   "file_extension": ".py",
   "mimetype": "text/x-python",
   "name": "python",
   "nbconvert_exporter": "python",
   "pygments_lexer": "ipython3",
   "version": "3.9.7"
  }
 },
 "nbformat": 4,
 "nbformat_minor": 5
}
