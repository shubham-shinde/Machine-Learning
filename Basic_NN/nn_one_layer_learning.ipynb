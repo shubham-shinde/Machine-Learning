{
 "cells": [
  {
   "cell_type": "code",
   "execution_count": 42,
   "id": "9328f555",
   "metadata": {},
   "outputs": [
    {
     "name": "stdout",
     "output_type": "stream",
     "text": [
      "[[0.8581734  0.38396084 0.56711249]\n",
      " [0.98337011 0.83935486 0.00508765]\n",
      " [0.91151641 0.80291966 0.40883734]]\n"
     ]
    }
   ],
   "source": [
    "import numpy as np\n",
    "r_weights = np.random.rand(3,3)\n",
    "print(r_weights)"
   ]
  },
  {
   "cell_type": "code",
   "execution_count": 43,
   "id": "2dc10021",
   "metadata": {},
   "outputs": [
    {
     "name": "stdout",
     "output_type": "stream",
     "text": [
      "[ 47 365 188]\n"
     ]
    }
   ],
   "source": [
    "input_data = np.random.randint(500, size=3)\n",
    "print(input_data)"
   ]
  },
  {
   "cell_type": "code",
   "execution_count": 44,
   "id": "0b885828",
   "metadata": {},
   "outputs": [
    {
     "name": "stdout",
     "output_type": "stream",
     "text": [
      "[211 770 673]\n"
     ]
    }
   ],
   "source": [
    "output_data = np.random.randint(1000, size=3)\n",
    "print(output_data)"
   ]
  },
  {
   "cell_type": "code",
   "execution_count": 52,
   "id": "4eb6c460",
   "metadata": {},
   "outputs": [
    {
     "name": "stdout",
     "output_type": "stream",
     "text": [
      "initial_prediction [106.61714897850271, 0.9564787602677645, 76.86142085309402]\n",
      "expected_output [211 770 673]\n",
      "final_prediction [211.8971489785028, 769.8764787602597, 672.821420853088]\n"
     ]
    }
   ],
   "source": [
    "weights = r_weights.copy()\n",
    "def m_sum(weights, input):\n",
    "    output=0\n",
    "    for j in range(0, len(input)):\n",
    "        output=weights[j] * input[j]\n",
    "    return output\n",
    "\n",
    "def predict(weights, inp):\n",
    "    output = []\n",
    "    for i in range(0, len(weights)):\n",
    "        result = m_sum(weights[i], inp)\n",
    "        output.append(result)\n",
    "    return output\n",
    " \n",
    "def learn(input, label):\n",
    "    lr=0.01\n",
    "    for i in range(0, len(weights)):\n",
    "        l_weights = weights[i]\n",
    "        output = m_sum(l_weights, input)\n",
    "        loss = (label[i] - output)**2\n",
    "        #positive test case\n",
    "        p_weights = [i + lr for i in l_weights]\n",
    "        p_output = m_sum(p_weights, input)\n",
    "        p_loss = (label[i] - p_output)**2\n",
    "        if p_loss < loss:\n",
    "            weights[i] = p_weights\n",
    "        \n",
    "        \n",
    "        #negative weights\n",
    "        n_weights = [i - lr for i in l_weights]\n",
    "        n_output = m_sum(n_weights, input)\n",
    "        n_loss = (label[i] - n_output)**2\n",
    "        if n_loss < loss:\n",
    "            weights[i] = n_weights\n",
    "            \n",
    "print('initial_prediction', predict(weights, input_data))\n",
    "print('expected_output', output_data)\n",
    "for i in range(100000):\n",
    "    learn(input_data, output_data)\n",
    "print('final_prediction', predict(weights, input_data))"
   ]
  },
  {
   "cell_type": "code",
   "execution_count": null,
   "id": "bbb0572f",
   "metadata": {},
   "outputs": [],
   "source": []
  }
 ],
 "metadata": {
  "kernelspec": {
   "display_name": "Python 3 (ipykernel)",
   "language": "python",
   "name": "python3"
  },
  "language_info": {
   "codemirror_mode": {
    "name": "ipython",
    "version": 3
   },
   "file_extension": ".py",
   "mimetype": "text/x-python",
   "name": "python",
   "nbconvert_exporter": "python",
   "pygments_lexer": "ipython3",
   "version": "3.9.7"
  }
 },
 "nbformat": 4,
 "nbformat_minor": 5
}
